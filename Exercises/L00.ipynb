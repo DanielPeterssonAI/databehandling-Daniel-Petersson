{
 "cells": [
  {
   "cell_type": "code",
   "execution_count": 24,
   "metadata": {},
   "outputs": [
    {
     "name": "stdout",
     "output_type": "stream",
     "text": [
      "      Kommun  Population\n",
      "0      Malmö      347949\n",
      "1  Stockholm      975551\n",
      "2    Uppsala      233839\n",
      "3   Göteborg      583056\n",
      "\n",
      "     Kommun  Population\n",
      "3  Göteborg      583056\n",
      "\n",
      "      Kommun  Population\n",
      "1  Stockholm      975551\n",
      "3   Göteborg      583056\n",
      "0      Malmö      347949\n",
      "2    Uppsala      233839\n",
      "\n"
     ]
    }
   ],
   "source": [
    "#1\n",
    "import pandas as pd\n",
    "\n",
    "df = None\n",
    "\n",
    "#a)\n",
    "cities = pd.Series(data = [\"Malmö\", \"Stockholm\", \"Uppsala\", \"Göteborg\"])\n",
    "population = pd.Series(data = (347949, 975551, 233839, 583056))\n",
    "\n",
    "df = pd.DataFrame({\"Kommun\": cities, \"Population\": population})\n",
    "\n",
    "print(df, end = \"\\n\\n\")\n",
    "\n",
    "#b)\n",
    "gbg = df[df[\"Kommun\"] == \"Göteborg\"]\n",
    "print(gbg, end = \"\\n\\n\")\n",
    "\n",
    "#c)\n",
    "sorted_by_population = df.sort_values(by = \"Population\", ascending = False)\n",
    "print(sorted_by_population,  end = \"\\n\\n\")\n",
    "\n"
   ]
  },
  {
   "cell_type": "code",
   "execution_count": 20,
   "metadata": {},
   "outputs": [
    {
     "data": {
      "text/html": [
       "<div>\n",
       "<style scoped>\n",
       "    .dataframe tbody tr th:only-of-type {\n",
       "        vertical-align: middle;\n",
       "    }\n",
       "\n",
       "    .dataframe tbody tr th {\n",
       "        vertical-align: top;\n",
       "    }\n",
       "\n",
       "    .dataframe thead th {\n",
       "        text-align: right;\n",
       "    }\n",
       "</style>\n",
       "<table border=\"1\" class=\"dataframe\">\n",
       "  <thead>\n",
       "    <tr style=\"text-align: right;\">\n",
       "      <th></th>\n",
       "      <th>Kommun</th>\n",
       "      <th>Population</th>\n",
       "    </tr>\n",
       "  </thead>\n",
       "  <tbody>\n",
       "    <tr>\n",
       "      <th>1</th>\n",
       "      <td>Stockholm</td>\n",
       "      <td>975551</td>\n",
       "    </tr>\n",
       "    <tr>\n",
       "      <th>3</th>\n",
       "      <td>Göteborg</td>\n",
       "      <td>583056</td>\n",
       "    </tr>\n",
       "    <tr>\n",
       "      <th>0</th>\n",
       "      <td>Malmö</td>\n",
       "      <td>347949</td>\n",
       "    </tr>\n",
       "  </tbody>\n",
       "</table>\n",
       "</div>"
      ],
      "text/plain": [
       "      Kommun  Population\n",
       "1  Stockholm      975551\n",
       "3   Göteborg      583056\n",
       "0      Malmö      347949"
      ]
     },
     "execution_count": 20,
     "metadata": {},
     "output_type": "execute_result"
    }
   ],
   "source": [
    "#d)\n",
    "\n",
    "df.sort_values(by = \"Population\", ascending = False).iloc[0:3]"
   ]
  },
  {
   "cell_type": "code",
   "execution_count": 26,
   "metadata": {},
   "outputs": [
    {
     "data": {
      "text/html": [
       "<div>\n",
       "<style scoped>\n",
       "    .dataframe tbody tr th:only-of-type {\n",
       "        vertical-align: middle;\n",
       "    }\n",
       "\n",
       "    .dataframe tbody tr th {\n",
       "        vertical-align: top;\n",
       "    }\n",
       "\n",
       "    .dataframe thead th {\n",
       "        text-align: right;\n",
       "    }\n",
       "</style>\n",
       "<table border=\"1\" class=\"dataframe\">\n",
       "  <thead>\n",
       "    <tr style=\"text-align: right;\">\n",
       "      <th></th>\n",
       "      <th>Kommun</th>\n",
       "      <th>Population</th>\n",
       "      <th>% av Sveriges population</th>\n",
       "    </tr>\n",
       "  </thead>\n",
       "  <tbody>\n",
       "    <tr>\n",
       "      <th>0</th>\n",
       "      <td>Malmö</td>\n",
       "      <td>347949</td>\n",
       "      <td>3.352338</td>\n",
       "    </tr>\n",
       "    <tr>\n",
       "      <th>1</th>\n",
       "      <td>Stockholm</td>\n",
       "      <td>975551</td>\n",
       "      <td>9.399010</td>\n",
       "    </tr>\n",
       "    <tr>\n",
       "      <th>2</th>\n",
       "      <td>Uppsala</td>\n",
       "      <td>233839</td>\n",
       "      <td>2.252937</td>\n",
       "    </tr>\n",
       "    <tr>\n",
       "      <th>3</th>\n",
       "      <td>Göteborg</td>\n",
       "      <td>583056</td>\n",
       "      <td>5.617491</td>\n",
       "    </tr>\n",
       "  </tbody>\n",
       "</table>\n",
       "</div>"
      ],
      "text/plain": [
       "      Kommun  Population  % av Sveriges population\n",
       "0      Malmö      347949                  3.352338\n",
       "1  Stockholm      975551                  9.399010\n",
       "2    Uppsala      233839                  2.252937\n",
       "3   Göteborg      583056                  5.617491"
      ]
     },
     "execution_count": 26,
     "metadata": {},
     "output_type": "execute_result"
    }
   ],
   "source": [
    "#e)\n",
    "\n",
    "df[\"% av Sveriges population\"] = df.apply(lambda row: row[\"Population\"] / 10379295 * 100, axis = 1)\n",
    "\n",
    "df"
   ]
  },
  {
   "cell_type": "code",
   "execution_count": 37,
   "metadata": {},
   "outputs": [
    {
     "name": "stdout",
     "output_type": "stream",
     "text": [
      "0        Malmö\n",
      "1    Stockholm\n",
      "2      Uppsala\n",
      "3     Göteborg\n",
      "Name: Kommun, dtype: object\n",
      "\n",
      "     Kommun  Population\n",
      "3  Göteborg      583056\n",
      "\n",
      "      Kommun  Population\n",
      "1  Stockholm      975551\n",
      "3   Göteborg      583056\n",
      "0      Malmö      347949\n",
      "2    Uppsala      233839\n",
      "\n",
      "      Kommun  Population\n",
      "1  Stockholm      975551\n",
      "3   Göteborg      583056\n",
      "0      Malmö      347949\n"
     ]
    },
    {
     "data": {
      "text/html": [
       "<div>\n",
       "<style scoped>\n",
       "    .dataframe tbody tr th:only-of-type {\n",
       "        vertical-align: middle;\n",
       "    }\n",
       "\n",
       "    .dataframe tbody tr th {\n",
       "        vertical-align: top;\n",
       "    }\n",
       "\n",
       "    .dataframe thead th {\n",
       "        text-align: right;\n",
       "    }\n",
       "</style>\n",
       "<table border=\"1\" class=\"dataframe\">\n",
       "  <thead>\n",
       "    <tr style=\"text-align: right;\">\n",
       "      <th></th>\n",
       "      <th>Kommun</th>\n",
       "      <th>Population</th>\n",
       "      <th>% av befolkningen</th>\n",
       "    </tr>\n",
       "  </thead>\n",
       "  <tbody>\n",
       "    <tr>\n",
       "      <th>1</th>\n",
       "      <td>Stockholm</td>\n",
       "      <td>975551</td>\n",
       "      <td>9.399010</td>\n",
       "    </tr>\n",
       "    <tr>\n",
       "      <th>3</th>\n",
       "      <td>Göteborg</td>\n",
       "      <td>583056</td>\n",
       "      <td>5.617491</td>\n",
       "    </tr>\n",
       "    <tr>\n",
       "      <th>0</th>\n",
       "      <td>Malmö</td>\n",
       "      <td>347949</td>\n",
       "      <td>3.352338</td>\n",
       "    </tr>\n",
       "    <tr>\n",
       "      <th>2</th>\n",
       "      <td>Uppsala</td>\n",
       "      <td>233839</td>\n",
       "      <td>2.252937</td>\n",
       "    </tr>\n",
       "  </tbody>\n",
       "</table>\n",
       "</div>"
      ],
      "text/plain": [
       "      Kommun  Population  % av befolkningen\n",
       "1  Stockholm      975551           9.399010\n",
       "3   Göteborg      583056           5.617491\n",
       "0      Malmö      347949           3.352338\n",
       "2    Uppsala      233839           2.252937"
      ]
     },
     "execution_count": 37,
     "metadata": {},
     "output_type": "execute_result"
    }
   ],
   "source": [
    "df = pd.DataFrame({\n",
    "    \"Kommun\": [\"Malmö\", \"Stockholm\", \"Uppsala\", \"Göteborg\"], \n",
    "    \"Population\": [347949, 975551, 233839, 583056]\n",
    "})\n",
    "\n",
    "print(df[\"Kommun\"], end = \"\\n\\n\")\n",
    "\n",
    "print(df[df[\"Kommun\"] == \"Göteborg\"], end = \"\\n\\n\")\n",
    "\n",
    "df = df.sort_values(by = \"Population\", ascending = False)\n",
    "\n",
    "print(df, end = \"\\n\\n\")\n",
    "\n",
    "print(df.iloc[0:3])\n",
    "\n",
    "df[\"% av befolkningen\"] = df.apply(lambda row: row[\"Population\"] / 10379295 * 100, axis = 1)\n",
    "\n",
    "df"
   ]
  },
  {
   "cell_type": "code",
   "execution_count": 69,
   "metadata": {},
   "outputs": [
    {
     "data": {
      "text/html": [
       "<div>\n",
       "<style scoped>\n",
       "    .dataframe tbody tr th:only-of-type {\n",
       "        vertical-align: middle;\n",
       "    }\n",
       "\n",
       "    .dataframe tbody tr th {\n",
       "        vertical-align: top;\n",
       "    }\n",
       "\n",
       "    .dataframe thead th {\n",
       "        text-align: right;\n",
       "    }\n",
       "</style>\n",
       "<table border=\"1\" class=\"dataframe\">\n",
       "  <thead>\n",
       "    <tr style=\"text-align: right;\">\n",
       "      <th></th>\n",
       "      <th>index</th>\n",
       "      <th>Rang 2020</th>\n",
       "      <th>Rang 2019</th>\n",
       "      <th>Kommun</th>\n",
       "      <th>Folkmängd 2020</th>\n",
       "      <th>Folkmängd 2019</th>\n",
       "      <th>Förändring</th>\n",
       "    </tr>\n",
       "  </thead>\n",
       "  <tbody>\n",
       "    <tr>\n",
       "      <th>45</th>\n",
       "      <td>51</td>\n",
       "      <td>46</td>\n",
       "      <td>47.0</td>\n",
       "      <td>Sundbyberg</td>\n",
       "      <td>52801</td>\n",
       "      <td>52414.0</td>\n",
       "      <td>387</td>\n",
       "    </tr>\n",
       "    <tr>\n",
       "      <th>46</th>\n",
       "      <td>52</td>\n",
       "      <td>47</td>\n",
       "      <td>46.0</td>\n",
       "      <td>Borlänge</td>\n",
       "      <td>52394</td>\n",
       "      <td>52590.0</td>\n",
       "      <td>-196</td>\n",
       "    </tr>\n",
       "    <tr>\n",
       "      <th>47</th>\n",
       "      <td>53</td>\n",
       "      <td>48</td>\n",
       "      <td>48.0</td>\n",
       "      <td>Hässleholm</td>\n",
       "      <td>52010</td>\n",
       "      <td>52145.0</td>\n",
       "      <td>-135</td>\n",
       "    </tr>\n",
       "    <tr>\n",
       "      <th>48</th>\n",
       "      <td>54</td>\n",
       "      <td>49</td>\n",
       "      <td>49.0</td>\n",
       "      <td>Sigtuna</td>\n",
       "      <td>49537</td>\n",
       "      <td>48964.0</td>\n",
       "      <td>573</td>\n",
       "    </tr>\n",
       "    <tr>\n",
       "      <th>49</th>\n",
       "      <td>55</td>\n",
       "      <td>50</td>\n",
       "      <td>50.0</td>\n",
       "      <td>Tyresö</td>\n",
       "      <td>48678</td>\n",
       "      <td>48333.0</td>\n",
       "      <td>345</td>\n",
       "    </tr>\n",
       "  </tbody>\n",
       "</table>\n",
       "</div>"
      ],
      "text/plain": [
       "    index Rang 2020  Rang 2019      Kommun Folkmängd 2020  Folkmängd 2019  \\\n",
       "45     51        46       47.0  Sundbyberg          52801         52414.0   \n",
       "46     52        47       46.0    Borlänge          52394         52590.0   \n",
       "47     53        48       48.0  Hässleholm          52010         52145.0   \n",
       "48     54        49       49.0     Sigtuna          49537         48964.0   \n",
       "49     55        50       50.0      Tyresö          48678         48333.0   \n",
       "\n",
       "   Förändring  \n",
       "45        387  \n",
       "46       -196  \n",
       "47       -135  \n",
       "48        573  \n",
       "49        345  "
      ]
     },
     "execution_count": 69,
     "metadata": {},
     "output_type": "execute_result"
    }
   ],
   "source": [
    "df = pd.read_excel(\"komtopp50_2020.xlsx\")\n",
    "\n",
    "df = df.iloc[6:]\n",
    "\n",
    "df = df.rename({\n",
    "    \"Unnamed: 0\": \"Rang 2020\", \n",
    "    \"Unnamed: 1\": \"Rang 2019\", \n",
    "    \"Unnamed: 2\": \"Kommun\", \n",
    "    \"Unnamed: 3\": \"Folkmängd 2020\", \n",
    "    \"Unnamed: 4\": \"Folkmängd 2019\", \n",
    "    \"Unnamed: 5\": \"Förändring\"\n",
    "}, axis = \"columns\")\n",
    "\n",
    "df = df.reset_index()\n",
    "\n",
    "df = df.sort_values(by = \"Folkmängd 2020\", ascending = False)\n",
    "\n",
    "df.iloc[-5:]"
   ]
  },
  {
   "cell_type": "code",
   "execution_count": 67,
   "metadata": {},
   "outputs": [
    {
     "data": {
      "text/plain": [
       "6227447"
      ]
     },
     "execution_count": 67,
     "metadata": {},
     "output_type": "execute_result"
    }
   ],
   "source": [
    "df[\"Folkmängd 2020\"].sum()\n"
   ]
  },
  {
   "cell_type": "code",
   "execution_count": 79,
   "metadata": {},
   "outputs": [
    {
     "data": {
      "text/plain": [
       "<AxesSubplot:xlabel='Kommun', ylabel='Folkmängd 2020'>"
      ]
     },
     "execution_count": 79,
     "metadata": {},
     "output_type": "execute_result"
    },
    {
     "data": {
      "image/png": "[encoded data removed]",
      "text/plain": [
       "<Figure size 1200x400 with 2 Axes>"
      ]
     },
     "metadata": {
      "needs_background": "light"
     },
     "output_type": "display_data"
    }
   ],
   "source": [
    "import matplotlib.pyplot as plt\n",
    "import seaborn as sns\n",
    "\n",
    "fig, ax = plt.subplots(1, 2, dpi = 100, figsize = (12, 4))\n",
    "\n",
    "ax[0].set_ylim([0, 1000000])\n",
    "ax[1].set_ylim([0, 1000000])\n",
    "\n",
    "sns.barplot(data = df.head(), x = \"Kommun\", y = \"Folkmängd 2020\", ax = ax[0])\n",
    "sns.barplot(data = df.tail(), x = \"Kommun\", y = \"Folkmängd 2020\", ax = ax[1])"
   ]
  }
 ],
 "metadata": {
  "interpreter": {
   "hash": "0564b1a69db504d11f33352dab7cb86aacf2d906efd2b0cc485b9cb1c6d6a9ea"
  },
  "kernelspec": {
   "display_name": "Python 3.9.6 64-bit ('databehandling-Daniel-Petersson-cHhubRs--python': pipenv)",
   "name": "python3"
  },
  "language_info": {
   "codemirror_mode": {
    "name": "ipython",
    "version": 3
   },
   "file_extension": ".py",
   "mimetype": "text/x-python",
   "name": "python",
   "nbconvert_exporter": "python",
   "pygments_lexer": "ipython3",
   "version": "3.9.6"
  },
  "orig_nbformat": 4
 },
 "nbformat": 4,
 "nbformat_minor": 2
}
