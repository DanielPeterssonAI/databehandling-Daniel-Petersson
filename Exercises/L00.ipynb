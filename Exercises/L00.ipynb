{
 "cells": [
  {
   "cell_type": "code",
   "execution_count": 24,
   "metadata": {},
   "outputs": [
    {
     "name": "stdout",
     "output_type": "stream",
     "text": [
      "      Kommun  Population\n",
      "0      Malmö      347949\n",
      "1  Stockholm      975551\n",
      "2    Uppsala      233839\n",
      "3   Göteborg      583056\n",
      "\n",
      "     Kommun  Population\n",
      "3  Göteborg      583056\n",
      "\n",
      "      Kommun  Population\n",
      "1  Stockholm      975551\n",
      "3   Göteborg      583056\n",
      "0      Malmö      347949\n",
      "2    Uppsala      233839\n",
      "\n"
     ]
    }
   ],
   "source": [
    "#1\n",
    "import pandas as pd\n",
    "\n",
    "df = None\n",
    "\n",
    "#a)\n",
    "cities = pd.Series(data = [\"Malmö\", \"Stockholm\", \"Uppsala\", \"Göteborg\"])\n",
    "population = pd.Series(data = (347949, 975551, 233839, 583056))\n",
    "\n",
    "df = pd.DataFrame({\"Kommun\": cities, \"Population\": population})\n",
    "\n",
    "print(df, end = \"\\n\\n\")\n",
    "\n",
    "#b)\n",
    "gbg = df[df[\"Kommun\"] == \"Göteborg\"]\n",
    "print(gbg, end = \"\\n\\n\")\n",
    "\n",
    "#c)\n",
    "sorted_by_population = df.sort_values(by = \"Population\", ascending = False)\n",
    "print(sorted_by_population,  end = \"\\n\\n\")\n",
    "\n"
   ]
  },
  {
   "cell_type": "code",
   "execution_count": 20,
   "metadata": {},
   "outputs": [
    {
     "data": {
      "text/html": [
       "<div>\n",
       "<style scoped>\n",
       "    .dataframe tbody tr th:only-of-type {\n",
       "        vertical-align: middle;\n",
       "    }\n",
       "\n",
       "    .dataframe tbody tr th {\n",
       "        vertical-align: top;\n",
       "    }\n",
       "\n",
       "    .dataframe thead th {\n",
       "        text-align: right;\n",
       "    }\n",
       "</style>\n",
       "<table border=\"1\" class=\"dataframe\">\n",
       "  <thead>\n",
       "    <tr style=\"text-align: right;\">\n",
       "      <th></th>\n",
       "      <th>Kommun</th>\n",
       "      <th>Population</th>\n",
       "    </tr>\n",
       "  </thead>\n",
       "  <tbody>\n",
       "    <tr>\n",
       "      <th>1</th>\n",
       "      <td>Stockholm</td>\n",
       "      <td>975551</td>\n",
       "    </tr>\n",
       "    <tr>\n",
       "      <th>3</th>\n",
       "      <td>Göteborg</td>\n",
       "      <td>583056</td>\n",
       "    </tr>\n",
       "    <tr>\n",
       "      <th>0</th>\n",
       "      <td>Malmö</td>\n",
       "      <td>347949</td>\n",
       "    </tr>\n",
       "  </tbody>\n",
       "</table>\n",
       "</div>"
      ],
      "text/plain": [
       "      Kommun  Population\n",
       "1  Stockholm      975551\n",
       "3   Göteborg      583056\n",
       "0      Malmö      347949"
      ]
     },
     "execution_count": 20,
     "metadata": {},
     "output_type": "execute_result"
    }
   ],
   "source": [
    "#d)\n",
    "\n",
    "df.sort_values(by = \"Population\", ascending = False).iloc[0:3]"
   ]
  },
  {
   "cell_type": "code",
   "execution_count": 26,
   "metadata": {},
   "outputs": [
    {
     "data": {
      "text/html": [
       "<div>\n",
       "<style scoped>\n",
       "    .dataframe tbody tr th:only-of-type {\n",
       "        vertical-align: middle;\n",
       "    }\n",
       "\n",
       "    .dataframe tbody tr th {\n",
       "        vertical-align: top;\n",
       "    }\n",
       "\n",
       "    .dataframe thead th {\n",
       "        text-align: right;\n",
       "    }\n",
       "</style>\n",
       "<table border=\"1\" class=\"dataframe\">\n",
       "  <thead>\n",
       "    <tr style=\"text-align: right;\">\n",
       "      <th></th>\n",
       "      <th>Kommun</th>\n",
       "      <th>Population</th>\n",
       "      <th>% av Sveriges population</th>\n",
       "    </tr>\n",
       "  </thead>\n",
       "  <tbody>\n",
       "    <tr>\n",
       "      <th>0</th>\n",
       "      <td>Malmö</td>\n",
       "      <td>347949</td>\n",
       "      <td>3.352338</td>\n",
       "    </tr>\n",
       "    <tr>\n",
       "      <th>1</th>\n",
       "      <td>Stockholm</td>\n",
       "      <td>975551</td>\n",
       "      <td>9.399010</td>\n",
       "    </tr>\n",
       "    <tr>\n",
       "      <th>2</th>\n",
       "      <td>Uppsala</td>\n",
       "      <td>233839</td>\n",
       "      <td>2.252937</td>\n",
       "    </tr>\n",
       "    <tr>\n",
       "      <th>3</th>\n",
       "      <td>Göteborg</td>\n",
       "      <td>583056</td>\n",
       "      <td>5.617491</td>\n",
       "    </tr>\n",
       "  </tbody>\n",
       "</table>\n",
       "</div>"
      ],
      "text/plain": [
       "      Kommun  Population  % av Sveriges population\n",
       "0      Malmö      347949                  3.352338\n",
       "1  Stockholm      975551                  9.399010\n",
       "2    Uppsala      233839                  2.252937\n",
       "3   Göteborg      583056                  5.617491"
      ]
     },
     "execution_count": 26,
     "metadata": {},
     "output_type": "execute_result"
    }
   ],
   "source": [
    "#e)\n",
    "\n",
    "df[\"% av Sveriges population\"] = df.apply(lambda row: row[\"Population\"] / 10379295 * 100, axis = 1)\n",
    "\n",
    "df"
   ]
  },
  {
   "cell_type": "code",
   "execution_count": 37,
   "metadata": {},
   "outputs": [
    {
     "name": "stdout",
     "output_type": "stream",
     "text": [
      "0        Malmö\n",
      "1    Stockholm\n",
      "2      Uppsala\n",
      "3     Göteborg\n",
      "Name: Kommun, dtype: object\n",
      "\n",
      "     Kommun  Population\n",
      "3  Göteborg      583056\n",
      "\n",
      "      Kommun  Population\n",
      "1  Stockholm      975551\n",
      "3   Göteborg      583056\n",
      "0      Malmö      347949\n",
      "2    Uppsala      233839\n",
      "\n",
      "      Kommun  Population\n",
      "1  Stockholm      975551\n",
      "3   Göteborg      583056\n",
      "0      Malmö      347949\n"
     ]
    },
    {
     "data": {
      "text/html": [
       "<div>\n",
       "<style scoped>\n",
       "    .dataframe tbody tr th:only-of-type {\n",
       "        vertical-align: middle;\n",
       "    }\n",
       "\n",
       "    .dataframe tbody tr th {\n",
       "        vertical-align: top;\n",
       "    }\n",
       "\n",
       "    .dataframe thead th {\n",
       "        text-align: right;\n",
       "    }\n",
       "</style>\n",
       "<table border=\"1\" class=\"dataframe\">\n",
       "  <thead>\n",
       "    <tr style=\"text-align: right;\">\n",
       "      <th></th>\n",
       "      <th>Kommun</th>\n",
       "      <th>Population</th>\n",
       "      <th>% av befolkningen</th>\n",
       "    </tr>\n",
       "  </thead>\n",
       "  <tbody>\n",
       "    <tr>\n",
       "      <th>1</th>\n",
       "      <td>Stockholm</td>\n",
       "      <td>975551</td>\n",
       "      <td>9.399010</td>\n",
       "    </tr>\n",
       "    <tr>\n",
       "      <th>3</th>\n",
       "      <td>Göteborg</td>\n",
       "      <td>583056</td>\n",
       "      <td>5.617491</td>\n",
       "    </tr>\n",
       "    <tr>\n",
       "      <th>0</th>\n",
       "      <td>Malmö</td>\n",
       "      <td>347949</td>\n",
       "      <td>3.352338</td>\n",
       "    </tr>\n",
       "    <tr>\n",
       "      <th>2</th>\n",
       "      <td>Uppsala</td>\n",
       "      <td>233839</td>\n",
       "      <td>2.252937</td>\n",
       "    </tr>\n",
       "  </tbody>\n",
       "</table>\n",
       "</div>"
      ],
      "text/plain": [
       "      Kommun  Population  % av befolkningen\n",
       "1  Stockholm      975551           9.399010\n",
       "3   Göteborg      583056           5.617491\n",
       "0      Malmö      347949           3.352338\n",
       "2    Uppsala      233839           2.252937"
      ]
     },
     "execution_count": 37,
     "metadata": {},
     "output_type": "execute_result"
    }
   ],
   "source": [
    "df = pd.DataFrame({\n",
    "    \"Kommun\": [\"Malmö\", \"Stockholm\", \"Uppsala\", \"Göteborg\"], \n",
    "    \"Population\": [347949, 975551, 233839, 583056]\n",
    "})\n",
    "\n",
    "print(df[\"Kommun\"], end = \"\\n\\n\")\n",
    "\n",
    "print(df[df[\"Kommun\"] == \"Göteborg\"], end = \"\\n\\n\")\n",
    "\n",
    "df = df.sort_values(by = \"Population\", ascending = False)\n",
    "\n",
    "print(df, end = \"\\n\\n\")\n",
    "\n",
    "print(df.iloc[0:3])\n",
    "\n",
    "df[\"% av befolkningen\"] = df.apply(lambda row: row[\"Population\"] / 10379295 * 100, axis = 1)\n",
    "\n",
    "df"
   ]
  },
  {
   "cell_type": "code",
   "execution_count": 89,
   "metadata": {},
   "outputs": [
    {
     "data": {
      "text/html": [
       "<div>\n",
       "<style scoped>\n",
       "    .dataframe tbody tr th:only-of-type {\n",
       "        vertical-align: middle;\n",
       "    }\n",
       "\n",
       "    .dataframe tbody tr th {\n",
       "        vertical-align: top;\n",
       "    }\n",
       "\n",
       "    .dataframe thead th {\n",
       "        text-align: right;\n",
       "    }\n",
       "</style>\n",
       "<table border=\"1\" class=\"dataframe\">\n",
       "  <thead>\n",
       "    <tr style=\"text-align: right;\">\n",
       "      <th></th>\n",
       "      <th>index</th>\n",
       "      <th>Rang 2020</th>\n",
       "      <th>Rang 2019</th>\n",
       "      <th>Kommun</th>\n",
       "      <th>Folkmängd 2020</th>\n",
       "      <th>Folkmängd 2019</th>\n",
       "      <th>Förändring</th>\n",
       "    </tr>\n",
       "  </thead>\n",
       "  <tbody>\n",
       "    <tr>\n",
       "      <th>271</th>\n",
       "      <td>277</td>\n",
       "      <td>286</td>\n",
       "      <td>286.0</td>\n",
       "      <td>Åsele</td>\n",
       "      <td>2805</td>\n",
       "      <td>2794.0</td>\n",
       "      <td>0.393701</td>\n",
       "    </tr>\n",
       "    <tr>\n",
       "      <th>5</th>\n",
       "      <td>11</td>\n",
       "      <td>287</td>\n",
       "      <td>287.0</td>\n",
       "      <td>Arjeplog</td>\n",
       "      <td>2718</td>\n",
       "      <td>2785.0</td>\n",
       "      <td>-2.405745</td>\n",
       "    </tr>\n",
       "    <tr>\n",
       "      <th>29</th>\n",
       "      <td>35</td>\n",
       "      <td>288</td>\n",
       "      <td>288.0</td>\n",
       "      <td>Dorotea</td>\n",
       "      <td>2498</td>\n",
       "      <td>2551.0</td>\n",
       "      <td>-2.077617</td>\n",
       "    </tr>\n",
       "    <tr>\n",
       "      <th>194</th>\n",
       "      <td>200</td>\n",
       "      <td>289</td>\n",
       "      <td>289.0</td>\n",
       "      <td>Sorsele</td>\n",
       "      <td>2442</td>\n",
       "      <td>2489.0</td>\n",
       "      <td>-1.888309</td>\n",
       "    </tr>\n",
       "    <tr>\n",
       "      <th>12</th>\n",
       "      <td>18</td>\n",
       "      <td>290</td>\n",
       "      <td>290.0</td>\n",
       "      <td>Bjurholm</td>\n",
       "      <td>2387</td>\n",
       "      <td>2408.0</td>\n",
       "      <td>-0.872093</td>\n",
       "    </tr>\n",
       "  </tbody>\n",
       "</table>\n",
       "</div>"
      ],
      "text/plain": [
       "     index Rang 2020  Rang 2019    Kommun Folkmängd 2020  Folkmängd 2019  \\\n",
       "271    277       286      286.0     Åsele           2805          2794.0   \n",
       "5       11       287      287.0  Arjeplog           2718          2785.0   \n",
       "29      35       288      288.0   Dorotea           2498          2551.0   \n",
       "194    200       289      289.0   Sorsele           2442          2489.0   \n",
       "12      18       290      290.0  Bjurholm           2387          2408.0   \n",
       "\n",
       "    Förändring  \n",
       "271   0.393701  \n",
       "5    -2.405745  \n",
       "29   -2.077617  \n",
       "194  -1.888309  \n",
       "12   -0.872093  "
      ]
     },
     "execution_count": 89,
     "metadata": {},
     "output_type": "execute_result"
    }
   ],
   "source": [
    "df = pd.read_excel(\"komtopp50_2020.xlsx\", sheet_name = \"Totalt\")\n",
    "\n",
    "df = df.iloc[6:]\n",
    "\n",
    "df = df.rename({\n",
    "    \"Unnamed: 0\": \"Rang 2020\", \n",
    "    \"Unnamed: 1\": \"Rang 2019\", \n",
    "    \"Unnamed: 2\": \"Kommun\", \n",
    "    \"Unnamed: 3\": \"Folkmängd 2020\", \n",
    "    \"Unnamed: 4\": \"Folkmängd 2019\", \n",
    "    \"Unnamed: 5\": \"Förändring\"\n",
    "}, axis = \"columns\")\n",
    "\n",
    "df = df.reset_index()\n",
    "\n",
    "df = df.sort_values(by = \"Folkmängd 2020\", ascending = False)\n",
    "\n",
    "df.iloc[-5:]"
   ]
  },
  {
   "cell_type": "code",
   "execution_count": 90,
   "metadata": {},
   "outputs": [
    {
     "data": {
      "text/plain": [
       "10379295"
      ]
     },
     "execution_count": 90,
     "metadata": {},
     "output_type": "execute_result"
    }
   ],
   "source": [
    "df[\"Folkmängd 2020\"].sum()\n"
   ]
  },
  {
   "cell_type": "code",
   "execution_count": 91,
   "metadata": {},
   "outputs": [
    {
     "data": {
      "text/plain": [
       "<AxesSubplot:xlabel='Kommun', ylabel='Folkmängd 2020'>"
      ]
     },
     "execution_count": 91,
     "metadata": {},
     "output_type": "execute_result"
    },
    {
     "data": {
      "image/png": "[encoded data removed]",
      "text/plain": [
       "<Figure size 1200x400 with 2 Axes>"
      ]
     },
     "metadata": {
      "needs_background": "light"
     },
     "output_type": "display_data"
    }
   ],
   "source": [
    "import matplotlib.pyplot as plt\n",
    "import seaborn as sns\n",
    "\n",
    "fig, ax = plt.subplots(1, 2, dpi = 100, figsize = (12, 4))\n",
    "\n",
    "ax[0].set_ylim([0, 1000000])\n",
    "ax[1].set_ylim([0, 1000000])\n",
    "\n",
    "sns.barplot(data = df.head(), x = \"Kommun\", y = \"Folkmängd 2020\", ax = ax[0])\n",
    "sns.barplot(data = df.tail(), x = \"Kommun\", y = \"Folkmängd 2020\", ax = ax[1])"
   ]
  },
  {
   "cell_type": "code",
   "execution_count": 88,
   "metadata": {},
   "outputs": [
    {
     "name": "stdout",
     "output_type": "stream",
     "text": [
      "<class 'pandas.core.frame.DataFrame'>\n",
      "RangeIndex: 5 entries, 0 to 4\n",
      "Data columns (total 2 columns):\n",
      " #   Column   Non-Null Count  Dtype\n",
      "---  ------   --------------  -----\n",
      " 0   Kolumn1  5 non-null      int64\n",
      " 1   Kolumn2  5 non-null      int64\n",
      "dtypes: int64(2)\n",
      "memory usage: 208.0 bytes\n",
      "<class 'pandas.core.frame.DataFrame'>\n",
      "RangeIndex: 5 entries, 0 to 4\n",
      "Data columns (total 2 columns):\n",
      " #   Column   Non-Null Count  Dtype\n",
      "---  ------   --------------  -----\n",
      " 0   Kolumn1  5 non-null      int64\n",
      " 1   Kolumn2  5 non-null      int64\n",
      "dtypes: int64(2)\n",
      "memory usage: 208.0 bytes\n"
     ]
    }
   ],
   "source": [
    "import pandas as pd\n",
    "\n",
    "df1 = pd.DataFrame({\n",
    "    \"Kolumn1\": pd.Series(data = [1, 2, 3, 4, 5]),\n",
    "    \"Kolumn2\": pd.Series(data = [9, 8, 7, 6, 5])\n",
    "})\n",
    "\n",
    "df2 = pd.DataFrame({\n",
    "    \"Kolumn1\": [1, 2, 3, 4, 5],\n",
    "    \"Kolumn2\": [9, 8, 7, 6, 5]\n",
    "})\n",
    "\n",
    "df1.info()\n",
    "df2.info()"
   ]
  },
  {
   "cell_type": "code",
   "execution_count": 126,
   "metadata": {},
   "outputs": [
    {
     "name": "stdout",
     "output_type": "stream",
     "text": [
      "True\n"
     ]
    }
   ],
   "source": [
    "import pandas as pd\n",
    "\n",
    "df_males = pd.read_excel(\"komtopp50_2020.xlsx\", sheet_name = \"Män\")\n",
    "df_females = pd.read_excel(\"komtopp50_2020.xlsx\", sheet_name = \"Kvinnor\")\n",
    "\n",
    "def chk_nan(obj):\n",
    "    return obj == obj\n",
    "\n",
    "def rename(dataframe):\n",
    "    for i in range(len(dataframe.columns)):\n",
    "        \n",
    "        dataframe.rename((\"Unnamed: {i}\" = dataframe[f\"Unnamed: {i}\"][4] if chk_nan(dataframe[f\"Unnamed: {i}\"][4]) else \"\"), axis = 1\n",
    "\n",
    "\n",
    "if 0 == 1:\n",
    "    df_males = df_males.rename({\n",
    "        \"Unnamed: 0\": str(df_males[\"Unnamed: 0\"][4]) + \" \" + str(df_males[\"Unnamed: 0\"][5]),\n",
    "        \"Unnamed: 1\": str(df_males[\"Unnamed: 1\"][4]) + \" \" + str(df_males[\"Unnamed: 1\"][5]),\n",
    "        \"Unnamed: 2\": str(df_males[\"Unnamed: 2\"][4]) + \" \" + str(df_males[\"Unnamed: 2\"][5]),\n",
    "        \"Unnamed: 3\": str(df_males[\"Unnamed: 3\"][4]) + \" \" + str(df_males[\"Unnamed: 3\"][5]),\n",
    "        \"Unnamed: 4\": str(df_males[\"Unnamed: 4\"][4]) + \" \" + str(df_males[\"Unnamed: 4\"][5]),\n",
    "        \"Unnamed: 5\": str(df_males[\"Unnamed: 5\"][4]) + \" \" + str(df_males[\"Unnamed: 5\"][5]),\n",
    "    }, axis = 1)\n",
    "\n",
    "print(chk_nan(df_males[\"Unnamed: 1\"][4]))"
   ]
  },
  {
   "cell_type": "markdown",
   "metadata": {},
   "source": []
  }
 ],
 "metadata": {
  "interpreter": {
   "hash": "0564b1a69db504d11f33352dab7cb86aacf2d906efd2b0cc485b9cb1c6d6a9ea"
  },
  "kernelspec": {
   "display_name": "Python 3.9.6 64-bit ('databehandling-Daniel-Petersson-cHhubRs--python': pipenv)",
   "name": "python3"
  },
  "language_info": {
   "codemirror_mode": {
    "name": "ipython",
    "version": 3
   },
   "file_extension": ".py",
   "mimetype": "text/x-python",
   "name": "python",
   "nbconvert_exporter": "python",
   "pygments_lexer": "ipython3",
   "version": "3.9.6"
  },
  "orig_nbformat": 4
 },
 "nbformat": 4,
 "nbformat_minor": 2
}
