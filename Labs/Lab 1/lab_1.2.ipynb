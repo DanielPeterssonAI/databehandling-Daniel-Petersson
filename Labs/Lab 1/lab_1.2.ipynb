{
 "cells": [
  {
   "cell_type": "code",
   "execution_count": 1,
   "metadata": {},
   "outputs": [],
   "source": [
    "import pandas as pd\n",
    "\n",
    "vaccine_file = \"Folkhalsomyndigheten_Covid19_Vaccine.xlsx\"\n",
    "\n",
    "veckodata_vaccin_df = pd.read_excel(vaccine_file, sheet_name = \"Vaccinerade kommun och ålder\")"
   ]
  },
  {
   "cell_type": "code",
   "execution_count": 2,
   "metadata": {},
   "outputs": [
    {
     "name": "stdout",
     "output_type": "stream",
     "text": [
      "Det finns 21 län representerade i datasetet.\n"
     ]
    }
   ],
   "source": [
    "counties = veckodata_vaccin_df[\"Län_namn\"].unique().__len__()\n",
    "\n",
    "print(f\"Det finns {counties} län representerade i datasetet.\")"
   ]
  },
  {
   "cell_type": "code",
   "execution_count": 3,
   "metadata": {},
   "outputs": [
    {
     "name": "stdout",
     "output_type": "stream",
     "text": [
      "Det finns 290 kommuner representerade i datasetet.\n"
     ]
    }
   ],
   "source": [
    "municipalities = veckodata_vaccin_df[\"Kommun_namn\"].unique().__len__()\n",
    "\n",
    "print(f\"Det finns {municipalities} kommuner representerade i datasetet.\")"
   ]
  },
  {
   "cell_type": "code",
   "execution_count": 4,
   "metadata": {},
   "outputs": [
    {
     "name": "stdout",
     "output_type": "stream",
     "text": [
      "Det finns 8541497 individer representerade i datasetet.\n"
     ]
    }
   ],
   "source": [
    "population = veckodata_vaccin_df[\"Befolkning\"].sum()\n",
    "\n",
    "print(f\"Det finns {population} individer representerade i datasetet.\")"
   ]
  },
  {
   "cell_type": "code",
   "execution_count": 5,
   "metadata": {},
   "outputs": [
    {
     "name": "stdout",
     "output_type": "stream",
     "text": [
      "Det finns 1885799 personer under 16 år i Sverige.\n"
     ]
    }
   ],
   "source": [
    "swedish_population = 10427296\n",
    "\n",
    "population_under_16 = swedish_population - population\n",
    "\n",
    "print(f\"Det finns {population_under_16} personer under 16 år i Sverige.\")"
   ]
  },
  {
   "cell_type": "code",
   "execution_count": 6,
   "metadata": {},
   "outputs": [],
   "source": [
    "counties_sum = veckodata_vaccin_df.groupby([\"Län_namn\"])[[\"Antal minst 1 dos\", \"Antal färdigvaccinerade\", \"Befolkning\"]].sum().reset_index()\n",
    "\n",
    "counties_sum[\"Andel minst 1 dos\"] = counties_sum[\"Antal minst 1 dos\"] / counties_sum[\"Befolkning\"]\n",
    "counties_sum[\"Andel färdigvaccinerade\"] = counties_sum[\"Antal färdigvaccinerade\"] / counties_sum[\"Befolkning\"]"
   ]
  },
  {
   "cell_type": "code",
   "execution_count": 7,
   "metadata": {},
   "outputs": [],
   "source": [
    "import plotly_express as px\n",
    "\n",
    "fig = px.bar(\n",
    "    counties_sum.sort_values(by = \"Andel färdigvaccinerade\", ascending = False), \n",
    "    x = \"Län_namn\", \n",
    "    y = [\"Andel minst 1 dos\", \"Andel färdigvaccinerade\"], \n",
    "    barmode = \"group\", \n",
    "    title = \"Andel vaccinerade, per län\",\n",
    "    labels = {\"variable\": \"Variabel\"}\n",
    ")\n",
    "\n",
    "fig.update_xaxes(title_text = \"Län\")\n",
    "fig.update_yaxes(title_text = \"Andel\")\n",
    "fig.update_traces(hovertemplate = \"%{y:.2%}\")\n",
    "fig.update_layout(yaxis = { \"tickformat\": \",.2%\"})\n",
    "\n",
    "fig.write_html(\"./Visualiseringar/andel_vaccinerade.html\")"
   ]
  },
  {
   "cell_type": "code",
   "execution_count": 8,
   "metadata": {},
   "outputs": [],
   "source": [
    "fig = px.bar(\n",
    "    counties_sum, \n",
    "    x = \"Län_namn\", \n",
    "    y = [\"Antal minst 1 dos\", \"Antal färdigvaccinerade\", \"Befolkning\"], \n",
    "    barmode = \"group\", \n",
    "    title = \"Vaccination och befolkning över 16 år, per län\",\n",
    "    labels = {\"variable\": \"Variabel\"}\n",
    ")\n",
    "\n",
    "fig.update_xaxes(title_text = \"Län\")\n",
    "fig.update_yaxes(title_text = \"Antal\")\n",
    "fig.update_traces(hovertemplate = \"%{y:.0f}\")\n",
    "\n",
    "fig.write_html(\"./Visualiseringar/antal_vaccinerade.html\")"
   ]
  }
 ],
 "metadata": {
  "interpreter": {
   "hash": "0564b1a69db504d11f33352dab7cb86aacf2d906efd2b0cc485b9cb1c6d6a9ea"
  },
  "kernelspec": {
   "display_name": "Python 3.9.6 64-bit ('databehandling-Daniel-Petersson-cHhubRs--python': pipenv)",
   "name": "python3"
  },
  "language_info": {
   "codemirror_mode": {
    "name": "ipython",
    "version": 3
   },
   "file_extension": ".py",
   "mimetype": "text/x-python",
   "name": "python",
   "nbconvert_exporter": "python",
   "pygments_lexer": "ipython3",
   "version": "3.9.6"
  },
  "orig_nbformat": 4
 },
 "nbformat": 4,
 "nbformat_minor": 2
}
