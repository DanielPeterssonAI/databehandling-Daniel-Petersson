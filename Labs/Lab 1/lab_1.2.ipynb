{
 "cells": [
  {
   "cell_type": "code",
   "execution_count": 1,
   "metadata": {},
   "outputs": [],
   "source": [
    "import pandas as pd\n",
    "\n",
    "vaccine_file = \"Folkhalsomyndigheten_Covid19_Vaccine.xlsx\"\n",
    "\n",
    "veckodata_vaccin_df = pd.read_excel(vaccine_file, sheet_name = \"Vaccinerade kommun och ålder\")"
   ]
  },
  {
   "cell_type": "code",
   "execution_count": 8,
   "metadata": {},
   "outputs": [
    {
     "name": "stdout",
     "output_type": "stream",
     "text": [
      "Det finns 21 län representerade i datasetet.\n"
     ]
    }
   ],
   "source": [
    "counties = veckodata_vaccin_df[\"Län_namn\"].unique().__len__()\n",
    "\n",
    "print(f\"Det finns {counties} län representerade i datasetet.\")"
   ]
  },
  {
   "cell_type": "code",
   "execution_count": 9,
   "metadata": {},
   "outputs": [
    {
     "name": "stdout",
     "output_type": "stream",
     "text": [
      "Det finns 290 kommuner representerade i datasetet.\n"
     ]
    }
   ],
   "source": [
    "municipalities = veckodata_vaccin_df[\"Kommun_namn\"].unique().__len__()\n",
    "\n",
    "print(f\"Det finns {municipalities} kommuner representerade i datasetet.\")"
   ]
  },
  {
   "cell_type": "code",
   "execution_count": 10,
   "metadata": {},
   "outputs": [
    {
     "name": "stdout",
     "output_type": "stream",
     "text": [
      "Det finns 8541497 individer representerade i datasetet.\n"
     ]
    }
   ],
   "source": [
    "population = veckodata_vaccin_df[\"Befolkning\"].sum()\n",
    "\n",
    "print(f\"Det finns {population} individer representerade i datasetet.\")"
   ]
  },
  {
   "cell_type": "code",
   "execution_count": 13,
   "metadata": {},
   "outputs": [
    {
     "name": "stdout",
     "output_type": "stream",
     "text": [
      "Det finns 1885799 personer under 16 år i Sverige.\n"
     ]
    }
   ],
   "source": [
    "swedish_population = 10427296\n",
    "\n",
    "population_under_16 = swedish_population - population\n",
    "\n",
    "print(f\"Det finns {population_under_16} personer under 16 år i Sverige.\")"
   ]
  },
  {
   "cell_type": "code",
   "execution_count": null,
   "metadata": {},
   "outputs": [],
   "source": [
    "import plotly_express as px\n",
    "\n",
    "px.bar(veckodata_vaccine_df, y = \"\")\n",
    "\n",
    "# Ska man beräkna det eller ta från bladet \"Vaccinerade kommun?\""
   ]
  }
 ],
 "metadata": {
  "interpreter": {
   "hash": "0564b1a69db504d11f33352dab7cb86aacf2d906efd2b0cc485b9cb1c6d6a9ea"
  },
  "kernelspec": {
   "display_name": "Python 3.9.6 64-bit ('databehandling-Daniel-Petersson-cHhubRs--python': pipenv)",
   "name": "python3"
  },
  "language_info": {
   "codemirror_mode": {
    "name": "ipython",
    "version": 3
   },
   "file_extension": ".py",
   "mimetype": "text/x-python",
   "name": "python",
   "nbconvert_exporter": "python",
   "pygments_lexer": "ipython3",
   "version": "3.9.6"
  },
  "orig_nbformat": 4
 },
 "nbformat": 4,
 "nbformat_minor": 2
}
