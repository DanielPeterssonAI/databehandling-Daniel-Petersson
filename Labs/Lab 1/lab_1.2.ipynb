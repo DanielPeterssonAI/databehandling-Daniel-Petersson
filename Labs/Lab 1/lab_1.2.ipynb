{
 "cells": [
  {
   "cell_type": "code",
   "execution_count": 14,
   "metadata": {},
   "outputs": [],
   "source": [
    "import pandas as pd\n",
    "\n",
    "vaccine_file = \"Folkhalsomyndigheten_Covid19_Vaccine.xlsx\"\n",
    "\n",
    "veckodata_vaccin_df = pd.read_excel(vaccine_file, sheet_name = \"Vaccinerade kommun och ålder\")"
   ]
  },
  {
   "cell_type": "code",
   "execution_count": 15,
   "metadata": {},
   "outputs": [
    {
     "name": "stdout",
     "output_type": "stream",
     "text": [
      "Det finns 21 län representerade i datasetet.\n"
     ]
    }
   ],
   "source": [
    "# a)\n",
    "# The length of the array of unique entries in \"Län_namn\" is the same as number of Län represented in the data set\n",
    "counties = veckodata_vaccin_df[\"Län_namn\"].unique().__len__() # tried .__len__() instead of len() since I find it so cool\n",
    "\n",
    "print(f\"Det finns {counties} län representerade i datasetet.\")"
   ]
  },
  {
   "cell_type": "code",
   "execution_count": 16,
   "metadata": {},
   "outputs": [
    {
     "name": "stdout",
     "output_type": "stream",
     "text": [
      "Det finns 290 kommuner representerade i datasetet.\n"
     ]
    }
   ],
   "source": [
    "# b)\n",
    "# Much the same as in a)\n",
    "municipalities = veckodata_vaccin_df[\"Kommun_namn\"].unique().__len__()\n",
    "\n",
    "print(f\"Det finns {municipalities} kommuner representerade i datasetet.\")"
   ]
  },
  {
   "cell_type": "code",
   "execution_count": 26,
   "metadata": {},
   "outputs": [
    {
     "name": "stdout",
     "output_type": "stream",
     "text": [
      "Det finns 8541497 individer representerade i datasetet.\n"
     ]
    }
   ],
   "source": [
    "# c)\n",
    "# The sum of everything in i the column \"Befolkning\" should be the total number of people in the dataset\n",
    "population = veckodata_vaccin_df[\"Befolkning\"].sum()\n",
    "\n",
    "print(f\"Det finns {population} individer representerade i datasetet.\")"
   ]
  },
  {
   "cell_type": "code",
   "execution_count": 27,
   "metadata": {},
   "outputs": [
    {
     "name": "stdout",
     "output_type": "stream",
     "text": [
      "Det finns 1885799 personer under 16 år i Sverige.\n"
     ]
    }
   ],
   "source": [
    "# d)\n",
    "\n",
    "swedish_population = 10427296\n",
    "\n",
    "population_under_16 = swedish_population - population\n",
    "\n",
    "print(f\"Det finns {population_under_16} personer under 16 år i Sverige.\")"
   ]
  },
  {
   "cell_type": "code",
   "execution_count": 28,
   "metadata": {},
   "outputs": [],
   "source": [
    "# e) - f)\n",
    "\n",
    "# Create a new dataframe with \"Antal minst 1 dos\", \"Antal färdigvaccinerade\" and \"Befolknin\" grouped by \"Län_namn\" as sums.\n",
    "counties_sum = veckodata_vaccin_df.groupby([\"Län_namn\"])[[\"Antal minst 1 dos\", \"Antal färdigvaccinerade\", \"Befolkning\"]].sum().reset_index()\n",
    "\n",
    "# Calculate \"Andel\"-columns of the \"Antal\" and \"Befolkning\" columns\n",
    "counties_sum[\"Andel minst 1 dos\"] = counties_sum[\"Antal minst 1 dos\"] / counties_sum[\"Befolkning\"]\n",
    "counties_sum[\"Andel färdigvaccinerade\"] = counties_sum[\"Antal färdigvaccinerade\"] / counties_sum[\"Befolkning\"]"
   ]
  },
  {
   "cell_type": "code",
   "execution_count": 29,
   "metadata": {},
   "outputs": [],
   "source": [
    "import plotly_express as px\n",
    "\n",
    "def px_bar_plotter(df, plotdicts):\n",
    "    \"\"\" Takes a dataframe and a list of dicts to plot, plots these as\n",
    "    barplots and saves them as html-files.\n",
    "\n",
    "    Required keys and values of a plot dict:\n",
    "        \"title\" - Subplot title\n",
    "        \"y\" - List of columns on the y - axis\n",
    "        \"y_label\" - Y-axis label\n",
    "    \"\"\"\n",
    "\n",
    "    for plot in plotdicts:\n",
    "        fig = px.bar(\n",
    "            df,\n",
    "            x = \"Län_namn\", \n",
    "            y = plot[\"y\"], \n",
    "            barmode = \"group\", \n",
    "            title = plot[\"title\"],\n",
    "            labels = {\"variable\": \"Variabel\"}\n",
    "        )\n",
    "\n",
    "        fig.update_xaxes(title_text = \"Län\")\n",
    "        fig.update_yaxes(title_text = plot[\"y_label\"])\n",
    "\n",
    "        # If the Y-axis represents an \"Andel\" the plotter should convert the labels\n",
    "        # from absolute numbers to percentages.\n",
    "        if plot['y_label'] == \"Andel\":\n",
    "            fig.update_traces(hovertemplate = \"%{y:.2%}\")\n",
    "            fig.update_layout(yaxis = { \"tickformat\": \",.0%\"})\n",
    "        else:\n",
    "            fig.update_traces(hovertemplate = \"%{y:.0f}\")\n",
    "       \n",
    "        fig.write_html(f\"./Visualiseringar/{plot['y_label'].lower()}_vaccinerade.html\")\n",
    "\n",
    "to_plot = [{\n",
    "    \"title\": \"Andel vaccinerade, per län\",\n",
    "    \"y\": [\"Andel minst 1 dos\", \"Andel färdigvaccinerade\"],\n",
    "    \"y_label\": \"Andel\"\n",
    "},{\n",
    "    \"title\": \"Vaccination och befolkning över 16 år, per län\",\n",
    "    \"y\": [\"Antal minst 1 dos\", \"Antal färdigvaccinerade\", \"Befolkning\"],\n",
    "    \"y_label\": \"Antal\"\n",
    "}]\n",
    "\n",
    "px_bar_plotter(counties_sum, to_plot)"
   ]
  }
 ],
 "metadata": {
  "interpreter": {
   "hash": "0564b1a69db504d11f33352dab7cb86aacf2d906efd2b0cc485b9cb1c6d6a9ea"
  },
  "kernelspec": {
   "display_name": "Python 3.9.6 64-bit ('databehandling-Daniel-Petersson-cHhubRs--python': pipenv)",
   "name": "python3"
  },
  "language_info": {
   "codemirror_mode": {
    "name": "ipython",
    "version": 3
   },
   "file_extension": ".py",
   "mimetype": "text/x-python",
   "name": "python",
   "nbconvert_exporter": "python",
   "pygments_lexer": "ipython3",
   "version": "3.9.6"
  },
  "orig_nbformat": 4
 },
 "nbformat": 4,
 "nbformat_minor": 2
}
