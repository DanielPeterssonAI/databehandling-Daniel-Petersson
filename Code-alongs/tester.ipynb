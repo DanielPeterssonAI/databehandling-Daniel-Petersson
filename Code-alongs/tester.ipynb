{
 "cells": [
  {
   "cell_type": "code",
   "execution_count": 15,
   "metadata": {},
   "outputs": [
    {
     "name": "stdout",
     "output_type": "stream",
     "text": [
      "600.0\n"
     ]
    }
   ],
   "source": [
    "def floor(n):\n",
    "    if n < 10:\n",
    "        return n / 10\n",
    "    else:\n",
    "        n = n // 10\n",
    "        return floor(n) * 10\n",
    "\n",
    "print(floor(6000))"
   ]
  },
  {
   "cell_type": "code",
   "execution_count": 16,
   "metadata": {},
   "outputs": [
    {
     "data": {
      "text/plain": [
       "[{'label': 'Apple', 'value': 'AAPL'},\n",
       " {'label': 'Nvidia', 'value': 'NVDA'},\n",
       " {'label': 'Tesla', 'value': 'TSLA'},\n",
       " {'label': 'IBM', 'value': 'IBM'}]"
      ]
     },
     "execution_count": 16,
     "metadata": {},
     "output_type": "execute_result"
    }
   ],
   "source": [
    "symbol_dict = dict(AAPL = \"Apple\", NVDA = \"Nvidia\", TSLA = \"Tesla\", IBM = \"IBM\")\n",
    "\n",
    "stock_options_dropdown = [{\"label\": name, \"value\": symbol}\n",
    "                            for symbol, name in symbol_dict.items()]\n",
    "\n",
    "stock_options_dropdown"
   ]
  },
  {
   "cell_type": "code",
   "execution_count": 2,
   "metadata": {},
   "outputs": [
    {
     "data": {
      "text/plain": [
       "[{'label': 'rodd', 'value': 'Rowing'},\n",
       " {'label': 'simning', 'value': 'Swimming'},\n",
       " {'label': 'simhopp', 'value': 'Diving'},\n",
       " {'label': 'judo', 'value': 'Judo'}]"
      ]
     },
     "execution_count": 2,
     "metadata": {},
     "output_type": "execute_result"
    }
   ],
   "source": [
    "sports_dict = {\"Rowing\": \"rodd\", \"Swimming\": \"simning\", \"Diving\": \"simhopp\", \"Judo\": \"judo\"}\n",
    "options = [{\"label\": datasetname, \"value\": name} for name, datasetname in sports_dict.items()]\n",
    "\n",
    "options"
   ]
  },
  {
   "cell_type": "code",
   "execution_count": 3,
   "metadata": {},
   "outputs": [
    {
     "name": "stdout",
     "output_type": "stream",
     "text": [
      "tjoho\n"
     ]
    }
   ],
   "source": [
    "def hej(ho):\n",
    "    print(ho)\n",
    "\n",
    "e = \"hej('tjoho')\"\n",
    "\n",
    "eval(e)"
   ]
  },
  {
   "cell_type": "code",
   "execution_count": 2,
   "metadata": {},
   "outputs": [
    {
     "name": "stdout",
     "output_type": "stream",
     "text": [
      "4\n"
     ]
    }
   ],
   "source": [
    "for i in [4]:\n",
    "    print(i)"
   ]
  },
  {
   "cell_type": "code",
   "execution_count": null,
   "metadata": {},
   "outputs": [],
   "source": []
  }
 ],
 "metadata": {
  "interpreter": {
   "hash": "0564b1a69db504d11f33352dab7cb86aacf2d906efd2b0cc485b9cb1c6d6a9ea"
  },
  "kernelspec": {
   "display_name": "Python 3.9.6 64-bit ('databehandling-Daniel-Petersson-cHhubRs--python': pipenv)",
   "language": "python",
   "name": "python3"
  },
  "language_info": {
   "codemirror_mode": {
    "name": "ipython",
    "version": 3
   },
   "file_extension": ".py",
   "mimetype": "text/x-python",
   "name": "python",
   "nbconvert_exporter": "python",
   "pygments_lexer": "ipython3",
   "version": "3.9.6"
  },
  "orig_nbformat": 4
 },
 "nbformat": 4,
 "nbformat_minor": 2
}
